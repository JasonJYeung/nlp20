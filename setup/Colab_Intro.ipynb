{
 "cells": [
  {
   "cell_type": "markdown",
   "metadata": {
    "colab_type": "text",
    "id": "3Czr6kx-iG0f"
   },
   "source": [
    "# What is Colab?"
   ]
  },
  {
   "cell_type": "markdown",
   "metadata": {
    "colab_type": "text",
    "id": "x5OxnvOFiPW-"
   },
   "source": [
    "* Colab is a free [Jupyter Notebook](https://jupyter.org/) \n",
    "environment hosted by Google that allows you to develop and run code and analyze data using computing resources in the cloud.  In this class, we'll typically use it for programming assignments in Python.\n",
    "\n",
    "\n",
    "* Colab Notebooks (like this one) consist of \"Cells\" that help organize code and text. From within Colab, you can add a Code Cell or a Text Cell by clicking the \"+ Code\" or \"+ Text\" buttons on the top left. \n",
    "\n",
    "\n",
    "* Google provides lots more details and tips about Colab in their [tutorials](https://colab.research.google.com/notebooks/welcome.ipynb).  If you are new to Colab, you might find these tutorials helpful to get up to speed.\n",
    "\n",
    "\n",
    "* To execute the code in a cell, use the key-command `shift+enter`. Try that out on the code cell below"
   ]
  },
  {
   "cell_type": "code",
   "execution_count": null,
   "metadata": {
    "colab": {
     "base_uri": "https://localhost:8080/",
     "height": 33
    },
    "colab_type": "code",
    "collapsed": false,
    "id": "G8xrN0Fp4W8Z",
    "outputId": "ebddc0b1-68ce-4850-a072-1fc00cf40b81"
   },
   "outputs": [],
   "source": [
    "5 + 5"
   ]
  },
  {
   "cell_type": "markdown",
   "metadata": {
    "colab_type": "text",
    "id": "uSU4zkGNk2d7"
   },
   "source": [
    "# Creating a Colab Notebook"
   ]
  },
  {
   "cell_type": "markdown",
   "metadata": {
    "colab_type": "text",
    "id": "aX9E3gEQk9Ww"
   },
   "source": [
    "* You need to be signed into a Google account in order to create, edit, and save Colab Notebooks.  You can create a new Notebook and find your saved Notebooks by going to https://colab.research.google.com/ while logged into your Google account. \n",
    "\n",
    "\n",
    "* We recommend that you use your Berkeley Gmail account rather than a personal Gmail for this class in order to avoid confusion.  When viewing a notebook, you can make sure that you're using the right Gmail account by clicking on your profile icon at the top right, and switch accounts if necessary.\n",
    "\n",
    "\n",
    "* Saved notebooks will then be stored in your account on Google Drive.  "
   ]
  },
  {
   "cell_type": "markdown",
   "metadata": {
    "colab_type": "text",
    "id": "Adp_2QRGnf6q"
   },
   "source": [
    "# Viewing a Colab hosted on Github"
   ]
  },
  {
   "cell_type": "markdown",
   "metadata": {
    "colab_type": "text",
    "id": "qwEEzj12nnhT"
   },
   "source": [
    "* In addition to Google Drive, Colab Notebooks can also be opened in the browser if they are stored on Github. For this class, assignments or examples will be posted on the course Github. Jupyter Notebooks are files with the extension \".ipynb\". \n",
    "\n",
    "\n",
    "* If a Jupyter Notebook is posted on Github, you can open it in Colab by copying the web address address of the '.ipynb' file and pointing your browser to `https://colab.research.google.com/github/{github-path-to-notebook}`\n",
    "\n",
    "\n",
    "* For example, this notebook can be opened in Colab via `https://colab.research.google.com/github/dbamman/nlp20/blob/master/setup/Colab_Intro.ipynb`\n",
    "\n",
    "\n",
    "* Once you've opened a Notebook in Colab, you can run the code and make edits. To save your changes, click on File->Save in the menu.  ** If you are editing a copy of a Colab that you opened from Github, Your edits will only be saved once you save a copy in your Google Drive.** You'll be prompted to do this if you try to save and haven't already done this step.\n",
    "\n",
    "\n",
    "* For assignments, Colab notebooks will typically be posted on the course Github page and will have instructions, starter code, and space for you to add your own code. In order to get started on an assigment, you'll want to open the starter notebook from Github in Colab and then save a copy into your Google Drive so that you can make changes to complete the assignment."
   ]
  },
  {
   "cell_type": "markdown",
   "metadata": {
    "colab_type": "text",
    "id": "Q8B8Motvs7_o"
   },
   "source": [
    "# What is a Runtime?"
   ]
  },
  {
   "cell_type": "markdown",
   "metadata": {
    "colab_type": "text",
    "id": "Eg1Gb4jDtAqQ"
   },
   "source": [
    "* Each time you open a Notebook in Colab, you are actually connecting to a computer (a server running the Linux operating system) in the Cloud, hosted by Google. When you execute your code, it's actually running on that computer and sending back any results to display in your browser.  In Colab, this connection between a Google server and your browser is called a 'Runtime'.\n",
    "\n",
    "\n",
    "* Because Google provides these servers free to Colab users, running code on Colab lets you take advantage of powerful hardware to run computations faster than you could on a laptop, for example.\n",
    "\n",
    "\n",
    "* Because you need to connect to a \"Runtime\" in order to use Colab, each time you connect, you'll need to re-run setup code each time you re-connect (such as installing Python libraries or downloading data). This can take a few minutes, but it's a necessary trade-off in order to be able to use these free computational resources."
   ]
  },
  {
   "cell_type": "markdown",
   "metadata": {
    "colab_type": "text",
    "id": "p4vVaZHDw7MZ"
   },
   "source": [
    "# Installing Software Libraries"
   ]
  },
  {
   "cell_type": "markdown",
   "metadata": {
    "colab_type": "text",
    "id": "HAw0R6-6xA-w"
   },
   "source": [
    "* We'll use Python 3 for programming assignments in this class. Colab Runtimes come with Python installed by default, along with some common libraries. For example, the `numpy` library is already installed, so you can import it to use in your code without any additional setup."
   ]
  },
  {
   "cell_type": "code",
   "execution_count": null,
   "metadata": {
    "colab": {},
    "colab_type": "code",
    "collapsed": true,
    "id": "EtyUxVS5w_ms"
   },
   "outputs": [],
   "source": [
    "import numpy as np"
   ]
  },
  {
   "cell_type": "markdown",
   "metadata": {
    "colab_type": "text",
    "id": "pWWl-DEIx0w4"
   },
   "source": [
    "* If you need to install libraries that aren't installed by default, you can often install via [pip](https://pypi.org/project/pip/). If you have some familiarity with using the command line, you can access typical command-line stuff using the \"!\" operator in a Code Cell."
   ]
  },
  {
   "cell_type": "code",
   "execution_count": null,
   "metadata": {
    "colab": {
     "base_uri": "https://localhost:8080/",
     "height": 33
    },
    "colab_type": "code",
    "collapsed": false,
    "id": "KeRjiecny_gi",
    "outputId": "e6a06c31-74e6-4659-8b79-e2d1e02f2d08"
   },
   "outputs": [],
   "source": [
    "!pip install numpy"
   ]
  },
  {
   "cell_type": "markdown",
   "metadata": {
    "colab_type": "text",
    "id": "C1rJLKFnzRid"
   },
   "source": [
    "* But don't worry if you're not familiar with the command line or installing python libraries. All of these sorts of commands for installation and setup can be stored inside a Notebook, so for assignments, the course staff will try to take care of this whenever possible."
   ]
  },
  {
   "cell_type": "markdown",
   "metadata": {
    "colab_type": "text",
    "id": "4SXW_o2IspPO"
   },
   "source": [
    "# Downloading Data"
   ]
  },
  {
   "cell_type": "markdown",
   "metadata": {
    "colab_type": "text",
    "id": "F6y4nB-mssDQ"
   },
   "source": [
    "* To work with data in Colab, we need to download the data to the computer you're connecting to in your Runtime. Data can be downloaded using the `!wget` command or by connecting to files on Google Drive.\n",
    "\n",
    "\n",
    "* When possible, data for course assignments will be uploaded to the course Github and then can be downloaded from within Colab. The easiest way to do this is to download the zip file of the course Github, which will contain any data files inside it.\n",
    "\n",
    "\n",
    "* Again, for assignments, the course staff will try to include commands for downloading data, so don't worry if you're not familiar yet with how this works."
   ]
  },
  {
   "cell_type": "code",
   "execution_count": null,
   "metadata": {
    "colab": {
     "base_uri": "https://localhost:8080/",
     "height": 326
    },
    "colab_type": "code",
    "collapsed": false,
    "id": "tTDnmG42lxKS",
    "outputId": "f59b1736-c382-4790-99f8-020ed8bc6c36"
   },
   "outputs": [],
   "source": [
    "!wget https://github.com/dbamman/nlp20/archive/master.zip\n",
    "!unzip master.zip\n",
    "!rm master.zip"
   ]
  },
  {
   "cell_type": "markdown",
   "metadata": {
    "colab_type": "text",
    "id": "QKnbar9J3TyQ"
   },
   "source": [
    "* Now we've downloaded the course Github repository into a folder called 'nlp20-master'. We can look inside it using the `ls` command. (if this command also shows you a folder called 'sample_data', that's just a default Colab thing that's always there)"
   ]
  },
  {
   "cell_type": "code",
   "execution_count": null,
   "metadata": {
    "colab": {
     "base_uri": "https://localhost:8080/",
     "height": 33
    },
    "colab_type": "code",
    "collapsed": false,
    "id": "CHVKKtMS2D1d",
    "outputId": "2973ae77-9485-4ef2-87da-509a4c9bca48"
   },
   "outputs": [],
   "source": [
    "!ls"
   ]
  },
  {
   "cell_type": "code",
   "execution_count": null,
   "metadata": {
    "colab": {
     "base_uri": "https://localhost:8080/",
     "height": 33
    },
    "colab_type": "code",
    "collapsed": false,
    "id": "PI7Lz--_3iLh",
    "outputId": "f4795323-9a83-4017-ae9c-8e1a42ddffe7"
   },
   "outputs": [],
   "source": [
    "!ls nlp20-master"
   ]
  },
  {
   "cell_type": "markdown",
   "metadata": {
    "colab_type": "text",
    "id": "Wdjq8WTp3teF"
   },
   "source": [
    "* Let's open a file from the course Github using Python and print out the contents."
   ]
  },
  {
   "cell_type": "code",
   "execution_count": null,
   "metadata": {
    "colab": {
     "base_uri": "https://localhost:8080/",
     "height": 196
    },
    "colab_type": "code",
    "collapsed": false,
    "id": "oRCQFiJe3kiQ",
    "outputId": "3c3cbac0-3954-4025-c5da-42695d6a9da4"
   },
   "outputs": [],
   "source": [
    "open('nlp20-master/setup/example_data.txt').read().split('\\n')"
   ]
  },
  {
   "cell_type": "markdown",
   "metadata": {
    "colab": {},
    "colab_type": "code",
    "id": "EjLbFwe-7Zgi"
   },
   "source": [
    "# Enabling GPU"
   ]
  },
  {
   "cell_type": "markdown",
   "metadata": {},
   "source": [
    "* For some assignments in this class, you will want to enable Colab's GPU, which allows neural models to train much faster (~20x!) than on a CPU.\n",
    "\n",
    "\n",
    "* GPU is not enabled by default on Colab.  To do so, perform the following:\n",
    "    \n",
    "    * Go to Edit -> Notebook Settings\n",
    "\n",
    "    * Select \"Hardware Accelerator\"\n",
    "\n",
    "    * Select \"GPU\"\n",
    "\n",
    "\n",
    "* In order to confirm GPU is enabled, run the following command in your Colab notebook:"
   ]
  },
  {
   "cell_type": "code",
   "execution_count": null,
   "metadata": {
    "collapsed": false
   },
   "outputs": [],
   "source": [
    "import tensorflow as tf\n",
    "sess = tf.Session(config=tf.ConfigProto(log_device_placement=True))"
   ]
  },
  {
   "cell_type": "markdown",
   "metadata": {},
   "source": [
    "* If you see something like the following, GPU is enabled.\n",
    "\n",
    "```\n",
    "Device mapping:\n",
    "/job:localhost/replica:0/task:0/device:XLA_CPU:0 -> device: XLA_CPU device\n",
    "/job:localhost/replica:0/task:0/device:XLA_GPU:0 -> device: XLA_GPU device\n",
    "/job:localhost/replica:0/task:0/device:GPU:0 -> device: 0, name: Tesla T4, pci bus id: 0000:00:04.0, compute capability: 7.5\n",
    "```\n",
    "\n",
    "\n",
    "* If, however, you see this, GPU is NOT enabled.\n",
    "\n",
    "```\n",
    "Device mapping:\n",
    "/job:localhost/replica:0/task:0/device:XLA_CPU:0 -> device: XLA_CPU device\n",
    "```"
   ]
  },
  {
   "cell_type": "code",
   "execution_count": null,
   "metadata": {
    "collapsed": true
   },
   "outputs": [],
   "source": []
  }
 ],
 "metadata": {
  "colab": {
   "collapsed_sections": [],
   "name": "Colab_Intro.ipynb",
   "provenance": []
  },
  "kernelspec": {
   "display_name": "analysis",
   "language": "python",
   "name": "analysis"
  },
  "language_info": {
   "codemirror_mode": {
    "name": "ipython",
    "version": 3
   },
   "file_extension": ".py",
   "mimetype": "text/x-python",
   "name": "python",
   "nbconvert_exporter": "python",
   "pygments_lexer": "ipython3",
   "version": "3.7.3"
  }
 },
 "nbformat": 4,
 "nbformat_minor": 0
}
